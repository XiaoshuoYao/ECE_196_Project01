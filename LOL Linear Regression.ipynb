{
 "cells": [
  {
   "cell_type": "markdown",
   "metadata": {},
   "source": [
    "# Linear Regeression: \n",
    "## Predict 'Game Duration' based on factors that NOT directely related to time\n",
    "\n",
    "### Data Preprocessing: PCA\n",
    "### Model: 14th order linear regression\n",
    "### Accuracy Obtain: Cross Validation on trainning and test set"
   ]
  },
  {
   "cell_type": "code",
   "execution_count": 1,
   "metadata": {},
   "outputs": [],
   "source": [
    "import matplotlib.pyplot as plt\n",
    "import numpy as np\n",
    "import pandas as pd\n",
    "%matplotlib inline\n",
    "\n",
    "from sklearn.preprocessing import StandardScaler\n",
    "from sklearn.decomposition import PCA"
   ]
  },
  {
   "cell_type": "code",
   "execution_count": 2,
   "metadata": {},
   "outputs": [
    {
     "data": {
      "text/plain": [
       "(107125, 15)"
      ]
     },
     "execution_count": 2,
     "metadata": {},
     "output_type": "execute_result"
    }
   ],
   "source": [
    "X_cols = [1, 2, 3, 4, 5, 6, 7, 8, 10, 11, 14, 15, 16, 21, 23]\n",
    "Y_cols = [1]\n",
    "X = pd.read_csv(\"Master_Ranked_Games.csv\", usecols = X_cols).values\n",
    "Y = pd.read_csv(\"Master_Ranked_Games.csv\", usecols = Y_cols).values\n",
    "X.shape\n",
    "#len(X)"
   ]
  },
  {
   "cell_type": "code",
   "execution_count": 3,
   "metadata": {},
   "outputs": [],
   "source": [
    "#Standardization: All the variables should be on the same scale before applying PCA\n",
    "x = StandardScaler().fit_transform(X)\n",
    "x = pd.DataFrame(X)"
   ]
  },
  {
   "cell_type": "code",
   "execution_count": 4,
   "metadata": {},
   "outputs": [
    {
     "data": {
      "text/plain": [
       "(1000, 14)"
      ]
     },
     "execution_count": 4,
     "metadata": {},
     "output_type": "execute_result"
    }
   ],
   "source": [
    "#Apply the principal conponant anylysis\n",
    "pca = PCA()\n",
    "x_pca = pca.fit_transform(x)\n",
    "x_pca = pd.DataFrame(x_pca)\n",
    "x_pca.head()\n",
    "\n",
    "#extract X and Y for linear model from fisrt 1000 principal samples\n",
    "X = x_pca.iloc[0:1000,1:len(X_cols)]\n",
    "Y = x_pca.iloc[0:1000,0]\n",
    "X.shape"
   ]
  },
  {
   "cell_type": "code",
   "execution_count": 5,
   "metadata": {},
   "outputs": [
    {
     "data": {
      "text/plain": [
       "(700, 14)"
      ]
     },
     "execution_count": 5,
     "metadata": {},
     "output_type": "execute_result"
    }
   ],
   "source": [
    "#seperate training and test data by 70%\n",
    "X_train = X[0: int(len(X)*0.7)]\n",
    "X_test = X[int(len(X)*0.7): len(X)]\n",
    "\n",
    "Y_train = Y[0: int(len(Y)*0.7)]\n",
    "Y_test = Y[int(len(Y)*0.7): len(Y)]\n",
    "\n",
    "X_train.shape"
   ]
  },
  {
   "cell_type": "code",
   "execution_count": 6,
   "metadata": {},
   "outputs": [
    {
     "name": "stdout",
     "output_type": "stream",
     "text": [
      "weights for model variables:\n",
      "15.5\n",
      "2.5\n",
      "-0.2\n",
      "-7.9\n",
      "-18.8\n",
      "-27.5\n",
      "-49.7\n",
      "-21.0\n",
      "-49.1\n",
      "0.2\n",
      "-34.2\n",
      "-13.8\n",
      "24.8\n",
      "-4.7\n",
      "15.5\n",
      "Linear Regression Model: Time = 15.5 + 2.5Wins - 0.2First Blood^2 - 7.9First Tower^3 - 18.8First Baron^4 - 27.5First Dragon^5 - 49.7First Inhibitor^6 - 21.0Dragon Kills^7 - 49.1Tower Kills^8 + 0.2Inhibotor Kills^9 - 34.2Kills^10 - 13.8Death^11 + 24.8Assit^12 - 4.7Average Level^13 + 15.5Killing Spree^14\n"
     ]
    },
    {
     "data": {
      "text/plain": [
       "(15,)"
      ]
     },
     "execution_count": 6,
     "metadata": {},
     "output_type": "execute_result"
    }
   ],
   "source": [
    "#append column of ones to the X dataset\n",
    "array = np.ones(len(X_train) * len(X_cols)).reshape(len(X_train), len(X_cols))\n",
    "for i in range(len(X_train)):\n",
    "    for j in range(1, len(X_cols)-1):\n",
    "        array[i, j] = X_train.iloc[i, j-1]\n",
    "        \n",
    "A = array #get matrix A of linear function: Y = Aw\n",
    "\n",
    "## Solve for w, the weight vector of linear function\n",
    "w = np.linalg.lstsq(A,Y_train, rcond=None)[0]\n",
    "\n",
    "#weight for each variable\n",
    "weights = []\n",
    "#variables = ['', 'Wins', 'First Blood', 'First Tower', 'First Baron', 'First Dragon', 'First Inhibitor', 'Dragon Kills', 'Tower Kills', 'Inhibotor Kills', 'Kills', 'Death', 'Assit', 'Average Level', 'Killing Spree']\n",
    "\n",
    "print('weights for model variables:')\n",
    "for i in range(len(w)):\n",
    "    weights.append(w[i])\n",
    "    print('%.1f'%weights[i])\n",
    "\n",
    "print('Linear Regression Model: ' + 'Time = 15.5 + 2.5Wins - 0.2First Blood^2 - 7.9First Tower^3 - 18.8First Baron^4 - 27.5First Dragon^5 - 49.7First Inhibitor^6 - 21.0Dragon Kills^7 - 49.1Tower Kills^8 + 0.2Inhibotor Kills^9 - 34.2Kills^10 - 13.8Death^11 + 24.8Assit^12 - 4.7Average Level^13 + 15.5Killing Spree^14')\n",
    "A.shape\n",
    "w.shape"
   ]
  },
  {
   "cell_type": "code",
   "execution_count": 7,
   "metadata": {},
   "outputs": [
    {
     "name": "stdout",
     "output_type": "stream",
     "text": [
      "MSE_train=188540158\n",
      "MSE_test=163907845\n",
      "Accuracy=0.86935\n"
     ]
    }
   ],
   "source": [
    "MSE_train_trend = []\n",
    "MSE_test_trend = []\n",
    "Accuracy_trend = []\n",
    "\n",
    "#compute MSE for training\n",
    "SSE_train = 0\n",
    "for i in range(len(Y_train)):\n",
    "    Y_fit = w[0]\n",
    "    for j in range(1, len(X_cols)-1):\n",
    "        Y_fit = Y_fit + w[j]*X_train.iloc[i, j - 1]**j    \n",
    "    SSE_train = SSE_train + int(Y_train.iloc[i] - Y_fit)**2\n",
    "MSE_train = SSE_train/len(Y_train)\n",
    "print(\"MSE_train\" + \"=\" + '%.d'%MSE_train)\n",
    "\n",
    "#compute MSE for test\n",
    "SSE_test = 0\n",
    "for i in range(len(Y_test)):\n",
    "    Y_fit = w[0]\n",
    "    for j in range(1, len(X_cols)-1):\n",
    "        Y_fit = Y_fit + w[j]*X_test.iloc[i, j - 1]**j    \n",
    "    SSE_test = SSE_test + int(Y_test.iloc[i] - Y_fit)**2\n",
    "MSE_test = SSE_test/len(Y_test)\n",
    "print(\"MSE_test\" + \"=\" + '%.d'%MSE_test)\n",
    "#compute accuracy of model\n",
    "\n",
    "#compute accuracy of the training model\n",
    "Accuracy = MSE_test/MSE_train\n",
    "print(\"Accuracy=\" + '%.5f'%Accuracy)\n",
    "\n"
   ]
  },
  {
   "cell_type": "code",
   "execution_count": 8,
   "metadata": {},
   "outputs": [
    {
     "name": "stdout",
     "output_type": "stream",
     "text": [
      "0.13064756577156755\n"
     ]
    }
   ],
   "source": [
    "#compute the error rate of the model\n",
    "error = 1 - Accuracy\n",
    "print(error)"
   ]
  },
  {
   "cell_type": "code",
   "execution_count": null,
   "metadata": {},
   "outputs": [],
   "source": []
  }
 ],
 "metadata": {
  "kernelspec": {
   "display_name": "Python 3",
   "language": "python",
   "name": "python3"
  },
  "language_info": {
   "codemirror_mode": {
    "name": "ipython",
    "version": 3
   },
   "file_extension": ".py",
   "mimetype": "text/x-python",
   "name": "python",
   "nbconvert_exporter": "python",
   "pygments_lexer": "ipython3",
   "version": "3.8.3"
  }
 },
 "nbformat": 4,
 "nbformat_minor": 4
}
